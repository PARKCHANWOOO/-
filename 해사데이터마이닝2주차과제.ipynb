{
  "nbformat": 4,
  "nbformat_minor": 0,
  "metadata": {
    "colab": {
      "provenance": [],
      "authorship_tag": "ABX9TyOk7rCQX/Jk/PLBmKoDMSiA",
      "include_colab_link": true
    },
    "kernelspec": {
      "name": "python3",
      "display_name": "Python 3"
    },
    "language_info": {
      "name": "python"
    }
  },
  "cells": [
    {
      "cell_type": "markdown",
      "metadata": {
        "id": "view-in-github",
        "colab_type": "text"
      },
      "source": [
        "<a href=\"https://colab.research.google.com/github/PARKCHANWOOO/-/blob/main/%ED%95%B4%EC%82%AC%EB%8D%B0%EC%9D%B4%ED%84%B0%EB%A7%88%EC%9D%B4%EB%8B%9D2%EC%A3%BC%EC%B0%A8%EA%B3%BC%EC%A0%9C.ipynb\" target=\"_parent\"><img src=\"https://colab.research.google.com/assets/colab-badge.svg\" alt=\"Open In Colab\"/></a>"
      ]
    },
    {
      "cell_type": "code",
      "execution_count": null,
      "metadata": {
        "id": "G95tm99Mae7G"
      },
      "outputs": [],
      "source": [
        "\n",
        "a = [2, 3, 4, 5, 6]\n",
        "rev_a = []\n",
        "print('a =', a)\n",
        "for _ in range(len(a)):\n",
        "    rev_a.append(a.pop())\n",
        "print('rev_a =', rev_a)"
      ]
    },
    {
      "cell_type": "code",
      "source": [
        "tup = 1, 2, 5, 4, 3, 2, 9, 4, 7, 8, 9, 9, 3, 7, 3\n",
        "print('주어진 튜플:', tup)\n",
        "temp = sorted(list(tup))\n",
        "\n",
        "max_count = 1\n",
        "count = 1\n",
        "cur_value = max_value = temp[0]\n",
        "\n",
        "for i in range(1, len(temp)):\n",
        "    if temp[i] == cur_value:\n",
        "        count += 1\n",
        "        if count >= max_count:\n",
        "            max_count = count\n",
        "            max_value = cur_value\n",
        "    else:\n",
        "        cur_value = temp[i]\n",
        "        count = 1\n",
        "\n",
        "print('가장 많이 나타나는 요소는:', max_value)\n",
        ""
      ],
      "metadata": {
        "id": "rnhkPKvJaiEi"
      },
      "execution_count": null,
      "outputs": []
    },
    {
      "cell_type": "code",
      "source": [
        "menu = {\n",
        "    \"Americano\": 3000,\n",
        "    \"Ice Americano\": 3500,\n",
        "    \"Cappuccino\": 4000,\n",
        "    \"Cafe Latte\": 4500,\n",
        "    \"Espresso\": 3600\n",
        "}\n",
        "\n",
        "for key in menu:\n",
        "    print(\"{:}  가격 : {:,}원\".format(key, menu[key]))\n",
        "\n"
      ],
      "metadata": {
        "id": "7GiPAv6uaiHv"
      },
      "execution_count": null,
      "outputs": []
    },
    {
      "cell_type": "code",
      "source": [
        "menu = {\n",
        "    \"Americano\": 3000,\n",
        "    \"Ice Americano\": 3500,\n",
        "    \"Cappuccino\": 4000,\n",
        "    \"Cafe Latte\": 4500,\n",
        "    \"Espresso\": 3600\n",
        "}\n",
        "\n",
        "for key in menu:\n",
        "    print(\"{:}  가격 : {:,}원\".format(key, menu[key]))\n",
        "\n",
        "choice = input('위의 메뉴중 하나를 선택하세요: ')\n",
        "\n",
        "if choice in menu.keys():\n",
        "    print('{}는 {:,}원 입니다. 결제를 부탁합니다.'.format(choice, menu[choice]))\n",
        "else:\n",
        "    print('미안합니다. {}는 메뉴에 없습니다.'.format(choice))"
      ],
      "metadata": {
        "id": "-d_026SdaiL7"
      },
      "execution_count": null,
      "outputs": []
    }
  ]
}